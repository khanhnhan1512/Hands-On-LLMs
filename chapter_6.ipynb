{
 "cells": [
  {
   "cell_type": "markdown",
   "id": "d7c7872a",
   "metadata": {},
   "source": [
    "# Chapter 6 - Prompt Engineering"
   ]
  },
  {
   "cell_type": "markdown",
   "id": "76eac2da",
   "metadata": {},
   "source": [
    "## Loading our model"
   ]
  },
  {
   "cell_type": "code",
   "execution_count": 20,
   "id": "9c174af6",
   "metadata": {},
   "outputs": [
    {
     "data": {
      "application/vnd.jupyter.widget-view+json": {
       "model_id": "95e40b26b37d44cfbc51a045dfe61d69",
       "version_major": 2,
       "version_minor": 0
      },
      "text/plain": [
       "Loading checkpoint shards:   0%|          | 0/2 [00:00<?, ?it/s]"
      ]
     },
     "metadata": {},
     "output_type": "display_data"
    },
    {
     "name": "stderr",
     "output_type": "stream",
     "text": [
      "Special tokens have been added in the vocabulary, make sure the associated word embeddings are fine-tuned or trained.\n"
     ]
    }
   ],
   "source": [
    "import torch\n",
    "from transformers import AutoTokenizer, AutoModelForCausalLM, pipeline\n",
    "\n",
    "model = AutoModelForCausalLM.from_pretrained(\n",
    "    \"microsoft/Phi-3-mini-4k-instruct\",\n",
    "    device_map=\"cuda\",\n",
    "    torch_dtype=\"auto\",\n",
    "    trust_remote_code=False,\n",
    ")\n",
    "tokenizer = AutoTokenizer.from_pretrained(\n",
    "    \"microsoft/Phi-3-mini-4k-instruct\"\n",
    ")\n",
    "\n",
    "pipe = pipeline(\n",
    "    \"text-generation\",\n",
    "    model=model,\n",
    "    tokenizer=tokenizer,\n",
    "    return_full_text=False,\n",
    "    max_new_tokens=500,\n",
    "    do_sample=False\n",
    ")"
   ]
  },
  {
   "cell_type": "code",
   "execution_count": 3,
   "id": "f6aeb6e8",
   "metadata": {},
   "outputs": [
    {
     "name": "stderr",
     "output_type": "stream",
     "text": [
      "You are not running the flash-attention implementation, expect numerical differences.\n"
     ]
    },
    {
     "data": {
      "text/plain": [
       "' Why did the chicken join the band? Because it had the drumsticks!'"
      ]
     },
     "execution_count": 3,
     "metadata": {},
     "output_type": "execute_result"
    }
   ],
   "source": [
    "messages = [\n",
    "    {\"role\": \"user\",\n",
    "     \"content\": \"Create a funny joke about chickens.\"}\n",
    "]\n",
    "output = pipe(messages)\n",
    "output[0]['generated_text']"
   ]
  },
  {
   "cell_type": "code",
   "execution_count": 4,
   "id": "691a1d10",
   "metadata": {},
   "outputs": [
    {
     "data": {
      "text/plain": [
       "'<|user|>\\nCreate a funny joke about chickens.<|end|>\\n<|endoftext|>'"
      ]
     },
     "execution_count": 4,
     "metadata": {},
     "output_type": "execute_result"
    }
   ],
   "source": [
    "prompt = pipe.tokenizer.apply_chat_template(messages, tokenize=False)\n",
    "prompt"
   ]
  },
  {
   "cell_type": "code",
   "execution_count": null,
   "id": "0a324563",
   "metadata": {},
   "outputs": [
    {
     "name": "stdout",
     "output_type": "stream",
     "text": [
      " Why did the chicken join the school band? Because it wanted to beat the stereotype that it couldn't conduct!\n"
     ]
    }
   ],
   "source": [
    "output = pipe(messages, do_sample=True, temperature=1) # using high temperature for more randomness\n",
    "print(output[0]['generated_text'])"
   ]
  },
  {
   "cell_type": "code",
   "execution_count": 6,
   "id": "c23dd347",
   "metadata": {},
   "outputs": [
    {
     "name": "stdout",
     "output_type": "stream",
     "text": [
      " Why did the chicken join the band? Because it had a \"cluck\" and rocked!\n"
     ]
    }
   ],
   "source": [
    "output = pipe(messages, do_sample=True, top_p=1) # using top_p sampling\n",
    "print(output[0]['generated_text'])"
   ]
  },
  {
   "cell_type": "markdown",
   "id": "7e794b32",
   "metadata": {},
   "source": [
    "## Intro to Prompt Engineering\n",
    "### The basic ingredients of a prompt\n",
    "## Advanced Prompt Engineering\n",
    "### Complex prompt"
   ]
  },
  {
   "cell_type": "code",
   "execution_count": 7,
   "id": "a9041a80",
   "metadata": {},
   "outputs": [],
   "source": [
    "text = \"\"\"In the previous post, we looked at Attention - a ubiquitous method in modern deep learning models. Attention is a concept that helped improve the performance of neural machine translation applications. In this post, we will look at The Transformer - a model that uses attention to boost the speed with which these models can be trained. The Transformer outperforms the Google Neural Machine Translation model in specific tasks. The biggest benefit, however, comes from how The Transformer lends itself to parallelization. It is in fact Google Cloud's recommendation to use The Transformer as a reference model to use their Cloud TPU offering. So let's try to break the model apart and look at how it functions.\n",
    "The Transformer was proposed in the paper Attention is All You Need. A TensorFlow implementation of it is available as a part of the Tensor2Tensor package. Harvard's NLP group created a guide annotating the paper with PyTorch implementation. In this post, we will attempt to oversimplify things a bit and introduce the concepts one by one to hopefully make it easier to understand to people without in-depth knowledge of the subject matter.\n",
    "Let's begin by looking at the model as a single black box. In a machine translation application, it would take a sentence in one language, and output its translation in another.\n",
    "Popping open that Optimus Prime goodness, we see an encoding component, a decoding component, and connections between them.\n",
    "The encoding component is a stack of encoders (the paper stacks six of them on top of each other - there's nothing magical about the number six, one can definitely experiment with other arrangements). The decoding component is a stack of decoders of the same number.\n",
    "The encoders are all identical in structure (yet they do not share weights). Each one is broken down into two sub-layers:\n",
    "The encoder's inputs first flow through a self-attention layer - a layer that helps the encoder look at other words in the input sentence as it encodes a specific word. We'll look closer at self-attention later in the post.\n",
    "The outputs of the self-attention layer are fed to a feed-forward neural network. The exact same feed-forward network is independently applied to each position.\n",
    "The decoder has both those layers, but between them is an attention layer that helps the decoder focus on relevant parts of the input sentence (similar what attention does in seq2seq models).\n",
    "Now that we've seen the major components of the model, let's start to look at the various vectors/tensors and how they flow between these components to turn the input of a trained model into an output.\n",
    "As is the case in NLP applications in general, we begin by turning each input word into a vector using an embedding algorithm.\n",
    "Each word is embedded into a vector of size 512. We'll represent those vectors with these simple boxes.\n",
    "The embedding only happens in the bottom-most encoder. The abstraction that is common to all the encoders is that they receive a list of vectors each of the size 512 - In the bottom encoder that would be the word embeddings, but in other encoders, it would be the output of the encoder that's directly below. The size of this list is hyperparameter we can set - basically it would be the length of the longest sentence in our training dataset.\n",
    "After embedding the words in our input sequence, each of them flows through each of the two layers of the encoder.\n",
    "Here we begin to see one key property of the Transformer, which is that the word in each position flows through its own path in the encoder. There are dependencies between these paths in the self-attention layer. The feed-forward layer does not have those dependencies, however, and thus the various paths can be executed in parallel while flowing through the feed-forward layer.\n",
    "Next, we'll switch up the example to a shorter sentence and we'll look at what happens in each sub-layer of the encoder.\n",
    "Now We're Encoding!\n",
    "As we've mentioned already, an encoder receives a list of vectors as input. It processes this list by passing these vectors into a 'self-attention' layer, then into a feed-forward neural network, then sends out the output upwards to the next encoder.\n",
    "\"\"\"\n",
    "\n",
    "persona = \"You are an expert in Large Language models. You excel at breaking down complex papers into digestible summaries.\\n\"\n",
    "instruction = \"Summarize the key findings of the paper provided.\\n\"\n",
    "context = \"Your summary should extract the most crucial points that can help researchers quickly understand the most vital information of the paper.\\n\"\n",
    "data_format = \"Create a bullet-point summary that outlines the method. Follow this up with a concise paragraph that encapsulates the main results.\\n\"\n",
    "audience = \"The summary is designed for busy researchers that quickly need to grasp the newest trends in Large Language models.\\n\"\n",
    "tone = \"The tone should be professional and clear.\\n\"\n",
    "text = \"MY TEXT TO SUMMARIZE\"\n",
    "data = f\"Text to summarize: {text}\"\n",
    "\n",
    "query = persona + instruction + context + data_format + audience + tone + data"
   ]
  },
  {
   "cell_type": "code",
   "execution_count": 9,
   "id": "3c66b104",
   "metadata": {},
   "outputs": [
    {
     "name": "stdout",
     "output_type": "stream",
     "text": [
      "<|user|>\n",
      "You are an expert in Large Language models. You excel at breaking down complex papers into digestible summaries.\n",
      "Summarize the key findings of the paper provided.\n",
      "Your summary should extract the most crucial points that can help researchers quickly understand the most vital information of the paper.\n",
      "Create a bullet-point summary that outlines the method. Follow this up with a concise paragraph that encapsulates the main results.\n",
      "The summary is designed for busy researchers that quickly need to grasp the newest trends in Large Language models.\n",
      "The tone should be professional and clear.\n",
      "Text to summarize: MY TEXT TO SUMMARIZE<|end|>\n",
      "<|endoftext|>\n"
     ]
    }
   ],
   "source": [
    "messages = [\n",
    "    {\"role\": \"user\",\n",
    "     \"content\": query}\n",
    "]\n",
    "print(tokenizer.apply_chat_template(messages, tokenize=False))"
   ]
  },
  {
   "cell_type": "code",
   "execution_count": 10,
   "id": "aacadcdb",
   "metadata": {},
   "outputs": [
    {
     "name": "stdout",
     "output_type": "stream",
     "text": [
      " - The paper investigates the impact of pre-training data size on the performance of Large Language Models (LLMs).\n",
      "\n",
      "- It compares models trained on different volumes of data, ranging from a few billion to several tr\n"
     ]
    }
   ],
   "source": [
    "outputs = pipe(messages)\n",
    "print(outputs[0]['generated_text'])"
   ]
  },
  {
   "cell_type": "markdown",
   "id": "cf2ebd70",
   "metadata": {},
   "source": [
    "### In-Context Learning: Providing Examples"
   ]
  },
  {
   "cell_type": "code",
   "execution_count": 11,
   "id": "c356d348",
   "metadata": {},
   "outputs": [
    {
     "name": "stdout",
     "output_type": "stream",
     "text": [
      "<|user|>\n",
      "A 'Gigamuru' is a type of Japanese musical instrument. An example of a sentence that uses the word 'Gigamuru' is:<|end|>\n",
      "<|assistant|>\n",
      "I have a Gigamuru that my uncle gave me as a gift. I love to play it at home.<|end|>\n",
      "<|user|>\n",
      "To 'screeg' something is to swing a sword at it. An example of a sentence that uses the word 'screeg' is:<|end|>\n",
      "<|endoftext|>\n"
     ]
    }
   ],
   "source": [
    "one_shot_prompt = [\n",
    "    {\n",
    "        \"role\": \"user\",\n",
    "        \"content\": \"A 'Gigamuru' is a type of Japanese musical instrument. An example of a sentence that uses the word 'Gigamuru' is:\"\n",
    "    },\n",
    "    {\n",
    "        \"role\": \"assistant\",\n",
    "        \"content\": \"I have a Gigamuru that my uncle gave me as a gift. I love to play it at home.\"\n",
    "    },\n",
    "    {\n",
    "        \"role\": \"user\",\n",
    "        \"content\": \"To 'screeg' something is to swing a sword at it. An example of a sentence that uses the word 'screeg' is:\"\n",
    "    }\n",
    "\n",
    "]\n",
    "print(tokenizer.apply_chat_template(one_shot_prompt, tokenize=False))"
   ]
  },
  {
   "cell_type": "code",
   "execution_count": 12,
   "id": "7fa077b0",
   "metadata": {},
   "outputs": [
    {
     "name": "stdout",
     "output_type": "stream",
     "text": [
      " In the ancient battle, the knight bravely screeg at the approaching enemy, hoping to protect his fellow warriors.\n"
     ]
    }
   ],
   "source": [
    "output = pipe(one_shot_prompt)\n",
    "print(output[0]['generated_text'])"
   ]
  },
  {
   "cell_type": "markdown",
   "id": "07dbbbdf",
   "metadata": {},
   "source": [
    "### Chain prompting: Breaking up the problem"
   ]
  },
  {
   "cell_type": "code",
   "execution_count": 13,
   "id": "3b1a939a",
   "metadata": {},
   "outputs": [
    {
     "name": "stdout",
     "output_type": "stream",
     "text": [
      " Name: ChatSage\n",
      "Slogan: \"Unleashing the power of AI to enhance your conversations.\"\n"
     ]
    }
   ],
   "source": [
    "Product_prompt = [\n",
    "    {\"role\": \"user\", \"content\": \"Create a name and slogan for a chatbot the leverages LLMs.\"}\n",
    "]\n",
    "outputs = pipe(Product_prompt)\n",
    "print(outputs[0]['generated_text'])"
   ]
  },
  {
   "cell_type": "markdown",
   "id": "e49b0050",
   "metadata": {},
   "source": [
    "## Reasoning with Generative Models"
   ]
  },
  {
   "cell_type": "markdown",
   "id": "8a100181",
   "metadata": {},
   "source": [
    "### Chain of Thought: Think before answering"
   ]
  },
  {
   "cell_type": "code",
   "execution_count": 16,
   "id": "1c61595c",
   "metadata": {},
   "outputs": [
    {
     "name": "stdout",
     "output_type": "stream",
     "text": [
      " The cafeteria started with 25 apples. They used 20 apples to make lunch, so they had 25 - 20 = 5 apples left. After buying 6 more apples, they now have 5 + 6 = 11 apples.\n"
     ]
    }
   ],
   "source": [
    "standard_prompt = [\n",
    "    {\n",
    "        \"role\": \"user\",\n",
    "        \"content\": \"Roger has 5 tennis balls. He buys 2 more cans of tennis balls. Each can has 3 tennis balls. How many tennis balls does he have now?\"\n",
    "    },\n",
    "    {\n",
    "        \"role\": \"assistant\",\n",
    "        \"content\": \"11\"\n",
    "    },\n",
    "    {\n",
    "        \"role\": \"user\",\n",
    "        \"content\": \"The cafeteria had 25 apples. If they used 20 to make lunch and bought 6 more, how many apples do they have now?\"\n",
    "    }\n",
    "]\n",
    "outputs = pipe(standard_prompt)\n",
    "print(outputs[0]['generated_text'])"
   ]
  },
  {
   "cell_type": "code",
   "execution_count": 17,
   "id": "b79d5711",
   "metadata": {},
   "outputs": [
    {
     "name": "stdout",
     "output_type": "stream",
     "text": [
      " The cafeteria started with 25 apples. They used 20 apples to make lunch, so they had 25 - 20 = 5 apples left. After buying 6 more apples, they now have 5 + 6 = 11 apples. The answer is 11.\n"
     ]
    }
   ],
   "source": [
    "cot_prompt = [\n",
    "    {\n",
    "        \"role\": \"user\",\n",
    "        \"content\": \"Roger has 5 tennis balls. He buys 2 more cans of tennis balls. Each can has 3 tennis balls. How many tennis balls does he have now?\"\n",
    "    },\n",
    "    {\n",
    "        \"role\": \"assistant\",\n",
    "        \"content\": \"Roger started with 5 balls. 2 cans of 3 tennis balls each is 6 tennis balls. 5 + 6 = 11. The answer is 11.\"\n",
    "    },\n",
    "    {\n",
    "        \"role\": \"user\",\n",
    "        \"content\": \"The cafeteria had 25 apples. If they used 20 to make lunch and bought 6 more, how many apples do they have now?\"\n",
    "    }\n",
    "]\n",
    "outputs = pipe(cot_prompt)\n",
    "print(outputs[0]['generated_text'])"
   ]
  },
  {
   "cell_type": "markdown",
   "id": "dc305eb1",
   "metadata": {},
   "source": [
    "### Zero-Shot Chain of Thought"
   ]
  },
  {
   "cell_type": "code",
   "execution_count": 18,
   "id": "d40588ab",
   "metadata": {},
   "outputs": [],
   "source": [
    "zeroshot_cot_prompt = [\n",
    "    {\"role\": \"user\", \"content\": \"Imagine three different experts are answering this question. All experts will write down 1 step of their thinking, then share it with the group. Then all experts will go on to the next step, etc. If any expert realises they're wrong at any point then they leave. The question is 'The cafeteria had 25 apples. If they used 20 to make lunch and bought 6 more, how many apples do they have now?' Make sure to discuss the results.\"}\n",
    "]"
   ]
  },
  {
   "cell_type": "code",
   "execution_count": 21,
   "id": "e6a34c29",
   "metadata": {},
   "outputs": [
    {
     "name": "stdout",
     "output_type": "stream",
     "text": [
      " Expert 1:\n",
      "Step 1: Start with the initial number of apples, which is 25.\n",
      "\n",
      "Expert 2:\n",
      "Step 1: Subtract the number of apples used for lunch, which is 20.\n",
      "Step 2: Add the number of apples bought, which is 6.\n",
      "\n",
      "Expert 3:\n",
      "Step 1: Start with the initial number of apples, which is 25.\n",
      "Step 2: Subtract the number of apples used for lunch, which is 20.\n",
      "Step 3: Add the number of apples bought, which is 6.\n",
      "\n",
      "Results:\n",
      "All three experts arrived at the same answer: 11 apples. The cafeteria had 25 apples initially, used 20 for lunch, and then bought 6 more, leaving them with 11 apples.\n"
     ]
    }
   ],
   "source": [
    "outputs = pipe(zeroshot_cot_prompt)\n",
    "print(outputs[0]['generated_text'])"
   ]
  },
  {
   "cell_type": "markdown",
   "id": "fe3dc993",
   "metadata": {},
   "source": [
    "## Output Verification"
   ]
  },
  {
   "cell_type": "markdown",
   "id": "bb76ae24",
   "metadata": {},
   "source": [
    "### Providing examples"
   ]
  },
  {
   "cell_type": "code",
   "execution_count": 22,
   "id": "33e37715",
   "metadata": {},
   "outputs": [
    {
     "name": "stdout",
     "output_type": "stream",
     "text": [
      " ```json\n",
      "{\n",
      "  \"name\": \"Eldrin the Wise\",\n",
      "  \"race\": \"Elf\",\n",
      "  \"class\": \"Wizard\",\n",
      "  \"level\": 10,\n",
      "  \"alignment\": \"Lawful Good\",\n",
      "  \"strength\": 8,\n",
      "  \"dexterity\": 14,\n",
      "  \"constitution\": 12,\n",
      "  \"intelligence\": 18,\n",
      "  \"wisdom\": 16,\n",
      "  \"charisma\": 10,\n",
      "  \"weapon_skill\": \"simple\",\n",
      "  \"armor_skill\": \"light\",\n",
      "  \"spell_slots\": {\n",
      "    \"cantrips\": [\"mage hand\", \"prestidigitation\", \"light\", \"comprehend languages\", \"detect magic\"],\n",
      "    \"1st level\": [\"magic missile\", \"shield\", \"fire bolt\", \"lightning bolt\", \"eldritch blast\"],\n",
      "    \"2nd level\": [\"invisibility\", \"polymorph\"],\n",
      "    \"3rd level\": [\"fireball\", \"cure wounds\", \"shield\", \"detect thoughts\"],\n",
      "    \"4th level\": [\"conjure elemental\", \"wish\"],\n",
      "    \"5th level\": [\"true polymorph\", \"wish\"]\n",
      "  },\n",
      "  \"spells_per_day\": 3,\n",
      "  \"equipment\": {\n",
      "    \"weapon\": \"Staff of the Ancients\",\n",
      "    \"armor\": \"Elven Robes\",\n",
      "    \"accessories\": [\"Staff of Power\", \"Ring of Protection\"],\n",
      "    \"spellbook\": \"The Arcane Compendium\"\n",
      "  },\n",
      "  \"background\": \"Adept\",\n",
      "  \"personality\": {\n",
      "    \"traits\": [\"Curious\", \"Intellectual\", \"Patient\", \"Reserved\"],\n",
      "    \"bonds\": [\"Ally with the Elven Council\"],\n",
      "    \"flaws\": [\"Overly cautious\", \"Prone to overthinking\"]\n",
      "  },\n",
      "  \"abilities\": {\n",
      "    \"arcane_focus\": {\n",
      "      \"description\": \"Eldrin can channel his magical energy through a\n"
     ]
    }
   ],
   "source": [
    "zeroshot_prompt = [\n",
    "    {\"role\": \"user\", \"content\": \"Create a character profile for an RPG game in JSON format.\"}\n",
    "]\n",
    "outputs = pipe(zeroshot_prompt)\n",
    "print(outputs[0]['generated_text'])"
   ]
  },
  {
   "cell_type": "code",
   "execution_count": 23,
   "id": "65e641b1",
   "metadata": {},
   "outputs": [
    {
     "name": "stdout",
     "output_type": "stream",
     "text": [
      " {\n",
      "    \"description\": \"A cunning rogue with a mysterious past, skilled in stealth and deception.\",\n",
      "    \"name\": \"Shadowblade\",\n",
      "    \"armor\": \"Leather Vest\",\n",
      "    \"weapon\": \"Dagger, Crossbow\"\n",
      "}\n"
     ]
    }
   ],
   "source": [
    "one_shot_template = \"\"\"Create a short character profile for an RPG game. Make sure to only use this format:\n",
    "\n",
    "{\n",
    "    \"description\": \"A SHORT DESCRIPTION\",\n",
    "    \"name\": \"THE CHARACTER NAME\",\n",
    "    \"armor\": \"ONE PIECE OF ARMOR\",\n",
    "    \"weapon\": \"ONE OR MORE WEAPONS\"\n",
    "}\"\"\"\n",
    "\n",
    "one_shot_prompt = [\n",
    "    {\"role\": \"user\", \"content\": one_shot_template}\n",
    "]\n",
    "outputs = pipe(one_shot_prompt)\n",
    "print(outputs[0]['generated_text'])"
   ]
  },
  {
   "cell_type": "markdown",
   "id": "c4572d51",
   "metadata": {},
   "source": [
    "### Grammar: Constrained Sampling"
   ]
  },
  {
   "cell_type": "code",
   "execution_count": 24,
   "id": "d6771f97",
   "metadata": {},
   "outputs": [],
   "source": [
    "import gc\n",
    "import torch\n",
    "del model, tokenizer, pipe\n",
    "gc.collect()\n",
    "torch.cuda.empty_cache()"
   ]
  },
  {
   "cell_type": "code",
   "execution_count": null,
   "id": "8f13d758",
   "metadata": {},
   "outputs": [],
   "source": [
    "from llmma_"
   ]
  }
 ],
 "metadata": {
  "kernelspec": {
   "display_name": "LLMs-env",
   "language": "python",
   "name": "python3"
  },
  "language_info": {
   "codemirror_mode": {
    "name": "ipython",
    "version": 3
   },
   "file_extension": ".py",
   "mimetype": "text/x-python",
   "name": "python",
   "nbconvert_exporter": "python",
   "pygments_lexer": "ipython3",
   "version": "3.10.16"
  }
 },
 "nbformat": 4,
 "nbformat_minor": 5
}
